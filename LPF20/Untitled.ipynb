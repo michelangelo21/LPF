{
 "cells": [
  {
   "cell_type": "code",
   "execution_count": 1,
   "metadata": {},
   "outputs": [],
   "source": [
    "import numpy as np\n",
    "import matplotlib.pyplot as plt\n",
    "import pandas as pd"
   ]
  },
  {
   "cell_type": "code",
   "execution_count": 2,
   "metadata": {
    "scrolled": true
   },
   "outputs": [
    {
     "data": {
      "text/plain": [
       "array([( 1, 0.11,  25.5, 0.02,  0.7), ( 2, 0.2 ,  27.5, 0.06,  1.3),\n",
       "       ( 3, 0.3 ,  31.3, 0.12,  2. ), ( 4, 0.41,  35.9, 0.21,  2.7),\n",
       "       ( 5, 0.51,  40.9, 0.32,  3.4), ( 6, 0.6 ,  46. , 0.41,  4. ),\n",
       "       ( 7, 0.7 ,  54.2, 0.56,  4.7), ( 8, 0.8 ,  64. , 0.73,  5.3),\n",
       "       ( 9, 0.92,  75.9, 0.93,  6.1), (10, 1.01,  85. , 1.08,  6.8),\n",
       "       (11, 1.12,  95.3, 1.23,  7.4), (12, 1.23, 105.2, 1.39,  8.1),\n",
       "       (13, 1.33, 113.1, 1.52,  8.7), (14, 1.45, 123. , 1.74,  9.5),\n",
       "       (15, 1.57, 136.2, 1.99, 10.3)],\n",
       "      dtype=[('lp', '<i4'), ('I', '<f8'), ('t', '<f8'), ('DL', '<f8'), ('U', '<f8')])"
      ]
     },
     "execution_count": 2,
     "metadata": {},
     "output_type": "execute_result"
    }
   ],
   "source": [
    "data_g = np.loadtxt(\"data_ogrzewany.txt\",dtype=np.dtype([('lp', np.int),('I',np.float64),('t',np.float64),('DL',np.float64),('U',np.float64) ]),\n",
    "                    delimiter=\" \",skiprows = 1, encoding='utf-8')\n",
    "data_g"
   ]
  },
  {
   "cell_type": "code",
   "execution_count": 3,
   "metadata": {},
   "outputs": [
    {
     "data": {
      "text/plain": [
       "array([(1, 1.57, 136.2,  1.99, 10.3), (2, 1.26, 107.2,  1.37,  8.3),\n",
       "       (3, 1.  ,  82. ,  0.93,  6.7), (4, 0.76,  61.1,  0.55,  5.1),\n",
       "       (5, 0.6 ,  48.5,  0.34,  4. ), (6, 0.39,  37. ,  0.13,  2.7),\n",
       "       (7, 0.18,  29.3,  0.  ,  1.2), (8, 0.  ,  26.5, -0.04,  0. )],\n",
       "      dtype=[('lp', '<i4'), ('I', '<f8'), ('t', '<f8'), ('DL', '<f8'), ('U', '<f8')])"
      ]
     },
     "execution_count": 3,
     "metadata": {},
     "output_type": "execute_result"
    }
   ],
   "source": [
    "data_z = np.loadtxt(\"data_ochladzany.txt\",dtype=np.dtype([('lp', np.int),('I',np.float64),('t',np.float64),('DL',np.float64),('U',np.float64) ]),\n",
    "                    delimiter=\" \",skiprows = 1, encoding='utf-8')\n",
    "data_z"
   ]
  },
  {
   "cell_type": "code",
   "execution_count": 4,
   "metadata": {},
   "outputs": [],
   "source": [
    "L0=0.885\n",
    "Delta_L0 = 0.004\n",
    "t0=24.1"
   ]
  },
  {
   "cell_type": "code",
   "execution_count": 11,
   "metadata": {},
   "outputs": [
    {
     "data": {
      "image/png": "[encoded data removed]",
      "text/plain": [
       "<Figure size 432x288 with 1 Axes>"
      ]
     },
     "metadata": {
      "needs_background": "light"
     },
     "output_type": "display_data"
    },
    {
     "name": "stdout",
     "output_type": "stream",
     "text": [
      " \n",
      "0.01964 x + 0.01385\n",
      "[0.01964414 0.01385462]\n"
     ]
    }
   ],
   "source": [
    "Xg = data_g[:]['t'] - t0\n",
    "Yg = data_g[:]['DL']/L0\n",
    "Pg = np.poly1d(np.polyfit(Xg,Yg,1))\n",
    "plt.plot(Xg,Pg(Xg),'-',c=\"yellow\")\n",
    "plt.plot(Xg,Yg,'o',c=\"red\")\n",
    "plt.show()\n",
    "print(Pg)\n",
    "print(np.polyfit(Xg,Yg,1))"
   ]
  },
  {
   "cell_type": "code",
   "execution_count": 6,
   "metadata": {},
   "outputs": [
    {
     "data": {
      "text/plain": [
       "<matplotlib.collections.PathCollection at 0x208aff3e4c8>"
      ]
     },
     "execution_count": 6,
     "metadata": {},
     "output_type": "execute_result"
    },
    {
     "data": {
      "image/png": "[encoded data removed]",
      "text/plain": [
       "<Figure size 432x288 with 1 Axes>"
      ]
     },
     "metadata": {
      "needs_background": "light"
     },
     "output_type": "display_data"
    }
   ],
   "source": [
    "Xz = data_z[:]['t'] - t0\n",
    "Yz = data_z[:]['DL']/L0\n",
    "plt.scatter(Xz,Yz,c='blue')"
   ]
  }
 ],
 "metadata": {
  "kernelspec": {
   "display_name": "Python 3",
   "language": "python",
   "name": "python3"
  },
  "language_info": {
   "codemirror_mode": {
    "name": "ipython",
    "version": 3
   },
   "file_extension": ".py",
   "mimetype": "text/x-python",
   "name": "python",
   "nbconvert_exporter": "python",
   "pygments_lexer": "ipython3",
   "version": "3.7.4"
  }
 },
 "nbformat": 4,
 "nbformat_minor": 2
}
