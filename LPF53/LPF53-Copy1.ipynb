{
 "cells": [
  {
   "cell_type": "code",
   "execution_count": 1,
   "metadata": {},
   "outputs": [],
   "source": [
    "import numpy as np\n",
    "import pandas as pd\n",
    "import matplotlib.pyplot as plt\n",
    "import sympy as sp\n",
    "import copy\n",
    "from scipy import stats"
   ]
  },
  {
   "cell_type": "code",
   "execution_count": 2,
   "metadata": {},
   "outputs": [],
   "source": [
    "##Niedokładności pomiarowe\n",
    "\n",
    "def calc_DR1(rdg, dgt):\n",
    "    return 0.5/100 * rdg + 1 * dgt\n",
    "\n",
    "def calc_DR2(rdg, dgt):\n",
    "    return 0.2/100 * rdg + 5 * dgt \n",
    "\n",
    "def calc_DU(rdg,dgt):\n",
    "    return 0.8/100 * rdg + 3 * dgt\n",
    "\n",
    "def calc_DI(rdg,dgt):\n",
    "    return 1./100 * rdg + 10 * dgt\n",
    "\n",
    "def calc_Df(rdg):\n",
    "    return 1./100 * rdg + 1\n",
    "\n",
    "#Niepewności\n",
    "def calc_u_A(X):\n",
    "    m = X.mean()\n",
    "    s = 0\n",
    "    l = X.size\n",
    "    for x in X:\n",
    "        s += (x-m)**2\n",
    "    return (s/l/(l-1))**(1./2)\n",
    "\n",
    "def calc_u_B(Dx):\n",
    "    return Dx / np.sqrt(3)\n",
    "\n",
    "def calc_u(uA, uB):\n",
    "    return np.sqrt(uA**2 + uB**2)\n",
    "\n",
    "def calc_u_B_U_from_series(X):\n",
    "    return calc_u_B(calc_DU(X[0],X[1]))\n",
    "\n",
    "def calc_u_B_I_from_series(X):\n",
    "    return calc_u_B(calc_DI(X[0],val['resI']))\n"
   ]
  },
  {
   "cell_type": "code",
   "execution_count": 3,
   "metadata": {},
   "outputs": [],
   "source": [
    "val = {}"
   ]
  },
  {
   "cell_type": "code",
   "execution_count": 4,
   "metadata": {},
   "outputs": [],
   "source": [
    "##Opór\n",
    "val['R_1'] = 153.4 #Ohm\n",
    "\n",
    "val['Zakres_R_1'] = 400 \n",
    "val['resR_1'] = 0.1 #Ohm\n",
    "\n",
    "val['DR_1'] = calc_DR1(val['R_1'],val['resR_1'])\n",
    "val['uR_1'] = calc_u_B(val['DR_1'])\n",
    "\n",
    "\n",
    "val['R_L2'] = 6.1 #Ohm\n",
    "\n",
    "val['Zakres_R_2'] = 200 \n",
    "val['resR_2'] = 0.01 #Ohm\n",
    "\n",
    "val['DR_2'] = calc_DR2(val['R_L2'],val['resR_2'])\n",
    "val['uR_L2'] = calc_u_B(val['DR_2'])"
   ]
  },
  {
   "cell_type": "code",
   "execution_count": 5,
   "metadata": {},
   "outputs": [],
   "source": [
    "##Częstotliwość\n",
    "val['f'] = 150 #Hz\n",
    "val['resf'] = 1e-6 #Hz\n",
    "\n",
    "val['Df'] = calc_Df(val['f'])\n",
    "val['uf'] = calc_u_B(val['Df'])"
   ]
  },
  {
   "cell_type": "code",
   "execution_count": 6,
   "metadata": {},
   "outputs": [],
   "source": [
    "##Natężenie\n",
    "val['Zakres_I'] = 200 #mA\n",
    "val['resI'] = 0.01 #mA"
   ]
  },
  {
   "cell_type": "code",
   "execution_count": 7,
   "metadata": {},
   "outputs": [
    {
     "data": {
      "text/html": [
       "<div>\n",
       "<style scoped>\n",
       "    .dataframe tbody tr th:only-of-type {\n",
       "        vertical-align: middle;\n",
       "    }\n",
       "\n",
       "    .dataframe tbody tr th {\n",
       "        vertical-align: top;\n",
       "    }\n",
       "\n",
       "    .dataframe thead th {\n",
       "        text-align: right;\n",
       "    }\n",
       "</style>\n",
       "<table border=\"1\" class=\"dataframe\">\n",
       "  <thead>\n",
       "    <tr style=\"text-align: right;\">\n",
       "      <th></th>\n",
       "      <th>U_sk</th>\n",
       "      <th>Zakres_U</th>\n",
       "      <th>I_sk</th>\n",
       "      <th>resU</th>\n",
       "    </tr>\n",
       "    <tr>\n",
       "      <th>lp.</th>\n",
       "      <th></th>\n",
       "      <th></th>\n",
       "      <th></th>\n",
       "      <th></th>\n",
       "    </tr>\n",
       "  </thead>\n",
       "  <tbody>\n",
       "    <tr>\n",
       "      <th>1</th>\n",
       "      <td>1.013</td>\n",
       "      <td>4</td>\n",
       "      <td>2.40</td>\n",
       "      <td>0.001</td>\n",
       "    </tr>\n",
       "    <tr>\n",
       "      <th>2</th>\n",
       "      <td>2.025</td>\n",
       "      <td>4</td>\n",
       "      <td>4.99</td>\n",
       "      <td>0.001</td>\n",
       "    </tr>\n",
       "    <tr>\n",
       "      <th>3</th>\n",
       "      <td>3.038</td>\n",
       "      <td>4</td>\n",
       "      <td>7.53</td>\n",
       "      <td>0.001</td>\n",
       "    </tr>\n",
       "    <tr>\n",
       "      <th>4</th>\n",
       "      <td>4.090</td>\n",
       "      <td>40</td>\n",
       "      <td>10.05</td>\n",
       "      <td>0.010</td>\n",
       "    </tr>\n",
       "    <tr>\n",
       "      <th>5</th>\n",
       "      <td>5.100</td>\n",
       "      <td>40</td>\n",
       "      <td>12.58</td>\n",
       "      <td>0.010</td>\n",
       "    </tr>\n",
       "  </tbody>\n",
       "</table>\n",
       "</div>"
      ],
      "text/plain": [
       "      U_sk  Zakres_U   I_sk   resU\n",
       "lp.                               \n",
       "1    1.013         4   2.40  0.001\n",
       "2    2.025         4   4.99  0.001\n",
       "3    3.038         4   7.53  0.001\n",
       "4    4.090        40  10.05  0.010\n",
       "5    5.100        40  12.58  0.010"
      ]
     },
     "execution_count": 7,
     "metadata": {},
     "output_type": "execute_result"
    }
   ],
   "source": [
    "##Tabela 1\n",
    "data1 = pd.read_csv(\"tab1.txt\", delimiter=\" \", index_col=\"lp.\")\n",
    "#data1.set_index('Zakres_woltomierza', append=True).swaplevel(0,1)['Usk']\n",
    "data1['resU'] = data1['Zakres_U'].map({4:0.001, 40:0.01})\n",
    "data1.head()"
   ]
  },
  {
   "cell_type": "code",
   "execution_count": 8,
   "metadata": {},
   "outputs": [],
   "source": [
    "##Niepewności 1\n",
    "\n",
    "data1['uU'] = data1[['U_sk','resU']].apply(calc_u_B_U_from_series, axis = 1)\n",
    "data1['uI'] = data1[['I_sk']].apply(calc_u_B_I_from_series, axis = 1)"
   ]
  },
  {
   "cell_type": "code",
   "execution_count": 9,
   "metadata": {
    "scrolled": false
   },
   "outputs": [
    {
     "data": {
      "image/png": "[encoded data removed]",
      "text/plain": [
       "<Figure size 600x400 with 1 Axes>"
      ]
     },
     "metadata": {
      "needs_background": "light"
     },
     "output_type": "display_data"
    }
   ],
   "source": [
    "plt.rcParams['figure.dpi'] = 100\n",
    "x = data1['I_sk'] / 1000\n",
    "y = data1['U_sk']\n",
    "xerr = data1['uI'] / 1000\n",
    "yerr = data1['uU']\n",
    "alpha, b, temp, temp, ualpha = stats.linregress(x,y)\n",
    "\n",
    "########## Możliwe że trzeba zrobić żeby b = 0\n",
    "\n",
    "val['Z_C'] = alpha.item()\n",
    "val['uZ_C'] = ualpha.item()\n",
    "\n",
    "plt.plot(x,alpha*x+b,':',label='Linia trendu')\n",
    "#plt.plot(x,alpha*x,':',label='Linia trendu')\n",
    "plt.text(0.015, 4.25, '$y={:.5f}x+{:.5f}$'.format(alpha,b))\n",
    "plt.plot(x,y,'.',label=\"Pomiary\")\n",
    "plt.xlabel('$I_{sk} [A]$')\n",
    "plt.ylabel('$U_{sk} [V]$')\n",
    "plt.errorbar(x=x, y=y, xerr=xerr, yerr=yerr,fmt='none',color='red',label=\"Niepewności\")\n",
    "plt.grid(which='both',axis='both')\n",
    "plt.legend()\n",
    "plt.title(\"$U_{sk}(I_{sk})$\")\n",
    "plt.savefig(\"U_I_1.png\",dpi=600)\n",
    "plt.show()\n",
    "\n",
    "\n"
   ]
  },
  {
   "cell_type": "code",
   "execution_count": 10,
   "metadata": {},
   "outputs": [
    {
     "data": {
      "text/latex": [
       "$\\displaystyle \\frac{1}{2 \\pi f \\sqrt{- R_{1}^{2} + Z_{C}^{2}}}$"
      ],
      "text/plain": [
       "1/(2*pi*f*sqrt(-R_1**2 + Z_C**2))"
      ]
     },
     "metadata": {},
     "output_type": "display_data"
    },
    {
     "data": {
      "text/latex": [
       "$\\displaystyle \\sqrt{\\frac{R_{1}^{2} u(R)^{2}}{4 \\pi^{2} f^{2} \\left(- R_{1}^{2} + Z_{C}^{2}\\right)^{3}} + \\frac{Z_{C}^{2} u(Z_{C)}^{2}}{4 \\pi^{2} f^{2} \\left(- R_{1}^{2} + Z_{C}^{2}\\right)^{3}} + \\frac{u(f)^{2}}{4 \\pi^{2} f^{4} \\left(- R_{1}^{2} + Z_{C}^{2}\\right)}}$"
      ],
      "text/plain": [
       "sqrt(R_1**2*u(R)**2/(4*pi**2*f**2*(-R_1**2 + Z_C**2)**3) + Z_C**2*u(Z_C)**2/(4*pi**2*f**2*(-R_1**2 + Z_C**2)**3) + u(f)**2/(4*pi**2*f**4*(-R_1**2 + Z_C**2)))"
      ]
     },
     "metadata": {},
     "output_type": "display_data"
    },
    {
     "data": {
      "text/plain": [
       "2.855049532712093e-08"
      ]
     },
     "execution_count": 10,
     "metadata": {},
     "output_type": "execute_result"
    }
   ],
   "source": [
    "# C_3 = 1 / (2 * np.pi * f * (Z_C**2 - R_1**2)**(1./2))\n",
    "f, Z_C, R = sp.symbols('f Z_C R_1')\n",
    "C = sp.sympify(1 / (2 * sp.pi * f * sp.sqrt(Z_C**2 - R**2)))\n",
    "\n",
    "val['C_3'] = float(C.subs({f:val['f'], Z_C:val[\"Z_C\"], R:val['R_1']}))\n",
    "\n",
    "uf, uZ_C, uR = sp.symbols('u(f) u(Z_C) u(R)')\n",
    "u_CC = sp.sqrt(C.diff(f)**2 * uf**2 + C.diff(Z_C)**2 * uZ_C**2 + C.diff(R)**2 * uR**2)\n",
    "display(C)\n",
    "display(u_CC)\n",
    "val['u_CC_3'] = float(u_CC.subs({f:val['f'], uf:val['uf'], Z_C:val[\"Z_C\"], uZ_C:val['uZ_C'], R:val['R_1'], uR:val['uR_1']}))\n",
    "val['u_CC_3']"
   ]
  },
  {
   "cell_type": "code",
   "execution_count": 11,
   "metadata": {},
   "outputs": [
    {
     "name": "stdout",
     "output_type": "stream",
     "text": [
      "\\frac{1}{2 \\pi f \\sqrt{- R_{1}^{2} + Z_{C}^{2}}}\n"
     ]
    },
    {
     "data": {
      "text/latex": [
       "$\\displaystyle \\sqrt{0^{2} uR^{2} + 0^{2} uZ_{C}^{2} + 0^{2} uf^{2}}$"
      ],
      "text/plain": [
       "sqrt(0**2*uR**2 + 0**2*uZ_C**2 + 0**2*uf**2)"
      ]
     },
     "metadata": {},
     "output_type": "display_data"
    },
    {
     "name": "stdout",
     "output_type": "stream",
     "text": [
      "\\sqrt{0^{2} uR^{2} + 0^{2} uZ_{C}^{2} + 0^{2} uf^{2}}\n"
     ]
    },
    {
     "data": {
      "text/latex": [
       "$\\displaystyle \\frac{8.95463022524599 \\cdot 10^{-6}}{\\pi}$"
      ],
      "text/plain": [
       "8.95463022524599e-6/pi"
      ]
     },
     "metadata": {},
     "output_type": "display_data"
    },
    {
     "name": "stdout",
     "output_type": "stream",
     "text": [
      "- \\frac{1}{2 \\pi f^{2} \\sqrt{- R_{1}^{2} + Z_{C}^{2}}}\n"
     ]
    }
   ],
   "source": [
    "#LaTeX\n",
    "\n",
    "print(sp.latex(C))\n",
    "\n",
    "u_CC_1 = sp.sympify(\"sqrt(C.diff(f)**2 * uf**2 + C.diff(Z_C)**2 * uZ_C**2 + C.diff(R)**2 * uR**2)\", evaluate = False)\n",
    "display(u_CC_1)\n",
    "C3 = C.subs({f:val['f'], Z_C:val[\"Z_C\"], R:val['R_1']})\n",
    "print(sp.latex(u_CC_1))\n",
    "display(C3)\n",
    "print(sp.latex(C.diff(f)))"
   ]
  },
  {
   "cell_type": "code",
   "execution_count": 12,
   "metadata": {},
   "outputs": [
    {
     "data": {
      "text/html": [
       "<div>\n",
       "<style scoped>\n",
       "    .dataframe tbody tr th:only-of-type {\n",
       "        vertical-align: middle;\n",
       "    }\n",
       "\n",
       "    .dataframe tbody tr th {\n",
       "        vertical-align: top;\n",
       "    }\n",
       "\n",
       "    .dataframe thead th {\n",
       "        text-align: right;\n",
       "    }\n",
       "</style>\n",
       "<table border=\"1\" class=\"dataframe\">\n",
       "  <thead>\n",
       "    <tr style=\"text-align: right;\">\n",
       "      <th></th>\n",
       "      <th>U_sk</th>\n",
       "      <th>Zakres_U</th>\n",
       "      <th>I_sk</th>\n",
       "      <th>resU</th>\n",
       "    </tr>\n",
       "    <tr>\n",
       "      <th>lp.</th>\n",
       "      <th></th>\n",
       "      <th></th>\n",
       "      <th></th>\n",
       "      <th></th>\n",
       "    </tr>\n",
       "  </thead>\n",
       "  <tbody>\n",
       "    <tr>\n",
       "      <th>1</th>\n",
       "      <td>1.011</td>\n",
       "      <td>4</td>\n",
       "      <td>6.19</td>\n",
       "      <td>0.001</td>\n",
       "    </tr>\n",
       "    <tr>\n",
       "      <th>2</th>\n",
       "      <td>2.023</td>\n",
       "      <td>4</td>\n",
       "      <td>12.53</td>\n",
       "      <td>0.001</td>\n",
       "    </tr>\n",
       "    <tr>\n",
       "      <th>3</th>\n",
       "      <td>3.035</td>\n",
       "      <td>4</td>\n",
       "      <td>18.88</td>\n",
       "      <td>0.001</td>\n",
       "    </tr>\n",
       "    <tr>\n",
       "      <th>4</th>\n",
       "      <td>4.090</td>\n",
       "      <td>40</td>\n",
       "      <td>25.19</td>\n",
       "      <td>0.010</td>\n",
       "    </tr>\n",
       "    <tr>\n",
       "      <th>5</th>\n",
       "      <td>5.090</td>\n",
       "      <td>40</td>\n",
       "      <td>31.57</td>\n",
       "      <td>0.010</td>\n",
       "    </tr>\n",
       "  </tbody>\n",
       "</table>\n",
       "</div>"
      ],
      "text/plain": [
       "      U_sk  Zakres_U   I_sk   resU\n",
       "lp.                               \n",
       "1    1.011         4   6.19  0.001\n",
       "2    2.023         4  12.53  0.001\n",
       "3    3.035         4  18.88  0.001\n",
       "4    4.090        40  25.19  0.010\n",
       "5    5.090        40  31.57  0.010"
      ]
     },
     "execution_count": 12,
     "metadata": {},
     "output_type": "execute_result"
    }
   ],
   "source": [
    "#Tabela 2\n",
    "data2 = pd.read_csv(\"tab2.txt\", delimiter=\" \", index_col=\"lp.\")\n",
    "#data1.set_index('Zakres_woltomierza', append=True).swaplevel(0,1)['Usk']\n",
    "data2['resU'] = data2['Zakres_U'].map({4:0.001, 40:0.01})\n",
    "data2.head()"
   ]
  },
  {
   "cell_type": "code",
   "execution_count": 13,
   "metadata": {},
   "outputs": [],
   "source": [
    "#Niepewności 2\n",
    "data2['uU'] = data2[['U_sk','resU']].apply(calc_u_B_U_from_series, axis = 1)\n",
    "data2['uI'] = data2[['I_sk']].apply(calc_u_B_I_from_series, axis = 1)"
   ]
  },
  {
   "cell_type": "code",
   "execution_count": 14,
   "metadata": {},
   "outputs": [
    {
     "data": {
      "image/png": "[encoded data removed]",
      "text/plain": [
       "<Figure size 600x400 with 1 Axes>"
      ]
     },
     "metadata": {
      "needs_background": "light"
     },
     "output_type": "display_data"
    }
   ],
   "source": [
    "plt.rcParams['figure.dpi'] = 100\n",
    "x = data2['I_sk'] / 1000\n",
    "y = data2['U_sk']\n",
    "xerr = data2['uI'] / 1000\n",
    "yerr = data2['uU']\n",
    "alpha, b, temp, temp, ualpha = stats.linregress(x,y)\n",
    "\n",
    "########## Możliwe że trzeba zrobić żeby b = 0\n",
    "\n",
    "val['Z_L'] = alpha.item()\n",
    "val['uZ_L'] = ualpha.item()\n",
    "\n",
    "plt.plot(x,alpha*x+b,':',label='Linia trendu')\n",
    "#plt.plot(x,alpha*x,':',label='Linia trendu')\n",
    "plt.text(0.04, 4.25, '$y={:.5f}x+{:.5f}$'.format(alpha,b))\n",
    "plt.plot(x,y,'.',label=\"Pomiary\")\n",
    "plt.xlabel('$I_{sk} [A]$')\n",
    "plt.ylabel('$U_{sk} [V]$')\n",
    "plt.errorbar(x=x, y=y, xerr=xerr, yerr=yerr,fmt='none',color='red',label=\"Niepewności\")\n",
    "plt.grid(which='both',axis='both')\n",
    "plt.legend()\n",
    "plt.title(\"$U_{sk}(I_{sk})$\")\n",
    "plt.savefig(\"U_I_2.png\",dpi=600)\n",
    "plt.show()"
   ]
  },
  {
   "cell_type": "code",
   "execution_count": 15,
   "metadata": {},
   "outputs": [
    {
     "data": {
      "text/latex": [
       "$\\displaystyle \\frac{\\sqrt{Z_{L}^{2} - \\left(R_{1} + R_{L2}\\right)^{2}}}{2 \\pi f}$"
      ],
      "text/plain": [
       "sqrt(Z_L**2 - (R_1 + R_L2)**2)/(2*pi*f)"
      ]
     },
     "metadata": {},
     "output_type": "display_data"
    },
    {
     "data": {
      "text/latex": [
       "$\\displaystyle \\sqrt{\\frac{Z_{L}^{2} u(Z_{L)}^{2}}{4 \\pi^{2} f^{2} \\left(Z_{L}^{2} - \\left(R_{1} + R_{L2}\\right)^{2}\\right)} + \\frac{u(R)^{2} \\left(- R_{1} - R_{L2}\\right)^{2}}{4 \\pi^{2} f^{2} \\left(Z_{L}^{2} - \\left(R_{1} + R_{L2}\\right)^{2}\\right)} + \\frac{u(R_{L)}^{2} \\left(- R_{1} - R_{L2}\\right)^{2}}{4 \\pi^{2} f^{2} \\left(Z_{L}^{2} - \\left(R_{1} + R_{L2}\\right)^{2}\\right)} + \\frac{u(f)^{2} \\left(Z_{L}^{2} - \\left(R_{1} + R_{L2}\\right)^{2}\\right)}{4 \\pi^{2} f^{4}}}$"
      ],
      "text/plain": [
       "sqrt(Z_L**2*u(Z_L)**2/(4*pi**2*f**2*(Z_L**2 - (R_1 + R_L2)**2)) + u(R)**2*(-R_1 - R_L2)**2/(4*pi**2*f**2*(Z_L**2 - (R_1 + R_L2)**2)) + u(R_L)**2*(-R_1 - R_L2)**2/(4*pi**2*f**2*(Z_L**2 - (R_1 + R_L2)**2)) + u(f)**2*(Z_L**2 - (R_1 + R_L2)**2)/(4*pi**2*f**4))"
      ]
     },
     "metadata": {},
     "output_type": "display_data"
    },
    {
     "data": {
      "text/plain": [
       "0.022631072963784207"
      ]
     },
     "execution_count": 15,
     "metadata": {},
     "output_type": "execute_result"
    }
   ],
   "source": [
    "Z_L, R_L = sp.symbols('Z_L R_L2')\n",
    "L = sp.sqrt(Z_L**2 - (R + R_L)**2)/(2 * sp.pi * f)\n",
    "\n",
    "val['L_2'] =float(L.subs({f:val['f'], Z_L:val[\"Z_L\"], R:val['R_1'], R_L:val['R_L2']}))\n",
    "display(L)\n",
    "\n",
    "uf, uZ_L, uR, uR_L = sp.symbols('u(f) u(Z_L) u(R) u(R_L)')\n",
    "u_CL = sp.sqrt(L.diff(f)**2 * uf**2 + L.diff(Z_L)**2 * uZ_L**2 + L.diff(R)**2 * uR**2 + L.diff(R_L)**2 * uR_L**2)\n",
    "display(u_CL)\n",
    "\n",
    "val['u_CL_2'] = float(u_CL.subs({f:val['f'], uf:val['uf'], Z_L:val[\"Z_L\"], uZ_L:val['uZ_L'], R:val['R_1'], uR:val['uR_1'], \n",
    "                                 R_L:val['R_L2'], uR_L:val['uR_L2']}))\n",
    "val['u_CL_2']"
   ]
  },
  {
   "cell_type": "code",
   "execution_count": 16,
   "metadata": {},
   "outputs": [
    {
     "name": "stdout",
     "output_type": "stream",
     "text": [
      "\\frac{- R_{1} - R_{L2}}{2 \\pi f \\sqrt{Z_{L}^{2} - \\left(R_{1} + R_{L2}\\right)^{2}}}\n"
     ]
    }
   ],
   "source": [
    "print(sp.latex(L.diff(R_L)))"
   ]
  },
  {
   "cell_type": "code",
   "execution_count": 17,
   "metadata": {},
   "outputs": [
    {
     "data": {
      "text/html": [
       "<div>\n",
       "<style scoped>\n",
       "    .dataframe tbody tr th:only-of-type {\n",
       "        vertical-align: middle;\n",
       "    }\n",
       "\n",
       "    .dataframe tbody tr th {\n",
       "        vertical-align: top;\n",
       "    }\n",
       "\n",
       "    .dataframe thead th {\n",
       "        text-align: right;\n",
       "    }\n",
       "</style>\n",
       "<table border=\"1\" class=\"dataframe\">\n",
       "  <thead>\n",
       "    <tr style=\"text-align: right;\">\n",
       "      <th></th>\n",
       "      <th>U_sk</th>\n",
       "      <th>Zakres_U</th>\n",
       "      <th>I_sk</th>\n",
       "      <th>resU</th>\n",
       "    </tr>\n",
       "    <tr>\n",
       "      <th>lp.</th>\n",
       "      <th></th>\n",
       "      <th></th>\n",
       "      <th></th>\n",
       "      <th></th>\n",
       "    </tr>\n",
       "  </thead>\n",
       "  <tbody>\n",
       "    <tr>\n",
       "      <th>1</th>\n",
       "      <td>1.013</td>\n",
       "      <td>4</td>\n",
       "      <td>2.48</td>\n",
       "      <td>0.001</td>\n",
       "    </tr>\n",
       "    <tr>\n",
       "      <th>2</th>\n",
       "      <td>2.024</td>\n",
       "      <td>4</td>\n",
       "      <td>5.00</td>\n",
       "      <td>0.001</td>\n",
       "    </tr>\n",
       "    <tr>\n",
       "      <th>3</th>\n",
       "      <td>3.037</td>\n",
       "      <td>4</td>\n",
       "      <td>7.55</td>\n",
       "      <td>0.001</td>\n",
       "    </tr>\n",
       "    <tr>\n",
       "      <th>4</th>\n",
       "      <td>4.080</td>\n",
       "      <td>40</td>\n",
       "      <td>10.08</td>\n",
       "      <td>0.010</td>\n",
       "    </tr>\n",
       "    <tr>\n",
       "      <th>5</th>\n",
       "      <td>5.100</td>\n",
       "      <td>40</td>\n",
       "      <td>12.61</td>\n",
       "      <td>0.010</td>\n",
       "    </tr>\n",
       "  </tbody>\n",
       "</table>\n",
       "</div>"
      ],
      "text/plain": [
       "      U_sk  Zakres_U   I_sk   resU\n",
       "lp.                               \n",
       "1    1.013         4   2.48  0.001\n",
       "2    2.024         4   5.00  0.001\n",
       "3    3.037         4   7.55  0.001\n",
       "4    4.080        40  10.08  0.010\n",
       "5    5.100        40  12.61  0.010"
      ]
     },
     "execution_count": 17,
     "metadata": {},
     "output_type": "execute_result"
    }
   ],
   "source": [
    "##Tabela 3\n",
    "\n",
    "data3 = pd.read_csv(\"tab3.txt\", delimiter=\" \", index_col=\"lp.\")\n",
    "#data1.set_index('Zakres_woltomierza', append=True).swaplevel(0,1)['Usk']\n",
    "data3['resU'] = data3['Zakres_U'].map({4:0.001, 40:0.01})\n",
    "data3.head()"
   ]
  },
  {
   "cell_type": "code",
   "execution_count": 18,
   "metadata": {},
   "outputs": [],
   "source": [
    "#Niepewności 3\n",
    "data3['uU'] = data3[['U_sk','resU']].apply(calc_u_B_U_from_series, axis = 1)\n",
    "data3['uI'] = data3[['I_sk']].apply(calc_u_B_I_from_series, axis = 1)"
   ]
  },
  {
   "cell_type": "code",
   "execution_count": 19,
   "metadata": {},
   "outputs": [
    {
     "data": {
      "image/png": "[encoded data removed]",
      "text/plain": [
       "<Figure size 600x400 with 1 Axes>"
      ]
     },
     "metadata": {
      "needs_background": "light"
     },
     "output_type": "display_data"
    }
   ],
   "source": [
    "plt.rcParams['figure.dpi'] = 100\n",
    "x = data3['I_sk'] / 1000\n",
    "y = data3['U_sk']\n",
    "xerr = data3['uI'] / 1000\n",
    "yerr = data3['uU']\n",
    "alpha, b, temp, temp, ualpha = stats.linregress(x,y)\n",
    "\n",
    "########## Możliwe że trzeba zrobić żeby b = 0\n",
    "\n",
    "val['Z_1'] = alpha.item()\n",
    "val['uZ_1'] = ualpha.item()\n",
    "\n",
    "plt.plot(x,alpha*x+b,':',label='Linia trendu')\n",
    "#plt.plot(x,alpha*x,':',label='Linia trendu')\n",
    "plt.text(0.015, 4.25, '$y={:.5f}x+{:.5f}$'.format(alpha,b))\n",
    "plt.plot(x,y,'.',label=\"Pomiary\")\n",
    "plt.xlabel('$I_{sk} [A]$')\n",
    "plt.ylabel('$U_{sk} [V]$')\n",
    "plt.errorbar(x=x, y=y, xerr=xerr, yerr=yerr,fmt='none',color='red',label=\"Niepewności\")\n",
    "plt.grid(which='both',axis='both')\n",
    "plt.legend()\n",
    "plt.title(\"$U_{sk}(I_{sk})$\")\n",
    "plt.savefig(\"U_I_3.png\",dpi=600)\n",
    "plt.show()"
   ]
  },
  {
   "cell_type": "code",
   "execution_count": 20,
   "metadata": {},
   "outputs": [
    {
     "data": {
      "text/latex": [
       "$\\displaystyle \\sqrt{\\left(R_{1} + R_{L2}\\right)^{2} + \\left(2 \\pi L_{2} f - \\frac{1}{2 \\pi C_{3} f}\\right)^{2}}$"
      ],
      "text/plain": [
       "sqrt((R_1 + R_L2)**2 + (2*pi*L_2*f - 1/(2*pi*C_3*f))**2)"
      ]
     },
     "metadata": {},
     "output_type": "display_data"
    },
    {
     "data": {
      "text/latex": [
       "$\\displaystyle \\sqrt{\\frac{4 \\pi^{2} f^{2} u(L_{2)}^{2} \\left(2 \\pi L_{2} f - \\frac{1}{2 \\pi C_{3} f}\\right)^{2}}{\\left(R_{1} + R_{L2}\\right)^{2} + \\left(2 \\pi L_{2} f - \\frac{1}{2 \\pi C_{3} f}\\right)^{2}} + \\frac{u(R)^{2} \\left(R_{1} + R_{L2}\\right)^{2}}{\\left(R_{1} + R_{L2}\\right)^{2} + \\left(2 \\pi L_{2} f - \\frac{1}{2 \\pi C_{3} f}\\right)^{2}} + \\frac{u(R_{L)}^{2} \\left(R_{1} + R_{L2}\\right)^{2}}{\\left(R_{1} + R_{L2}\\right)^{2} + \\left(2 \\pi L_{2} f - \\frac{1}{2 \\pi C_{3} f}\\right)^{2}} + \\frac{u(f)^{2} \\left(4 \\pi L_{2} + \\frac{1}{\\pi C_{3} f^{2}}\\right)^{2} \\left(2 \\pi L_{2} f - \\frac{1}{2 \\pi C_{3} f}\\right)^{2}}{4 \\left(\\left(R_{1} + R_{L2}\\right)^{2} + \\left(2 \\pi L_{2} f - \\frac{1}{2 \\pi C_{3} f}\\right)^{2}\\right)} + \\frac{u(C_{3)}^{2} \\left(2 \\pi L_{2} f - \\frac{1}{2 \\pi C_{3} f}\\right)^{2}}{4 \\pi^{2} C_{3}^{4} f^{2} \\left(\\left(R_{1} + R_{L2}\\right)^{2} + \\left(2 \\pi L_{2} f - \\frac{1}{2 \\pi C_{3} f}\\right)^{2}\\right)}}$"
      ],
      "text/plain": [
       "sqrt(4*pi**2*f**2*u(L_2)**2*(2*pi*L_2*f - 1/(2*pi*C_3*f))**2/((R_1 + R_L2)**2 + (2*pi*L_2*f - 1/(2*pi*C_3*f))**2) + u(R)**2*(R_1 + R_L2)**2/((R_1 + R_L2)**2 + (2*pi*L_2*f - 1/(2*pi*C_3*f))**2) + u(R_L)**2*(R_1 + R_L2)**2/((R_1 + R_L2)**2 + (2*pi*L_2*f - 1/(2*pi*C_3*f))**2) + u(f)**2*(4*pi*L_2 + 1/(pi*C_3*f**2))**2*(2*pi*L_2*f - 1/(2*pi*C_3*f))**2/(4*((R_1 + R_L2)**2 + (2*pi*L_2*f - 1/(2*pi*C_3*f))**2)) + u(C_3)**2*(2*pi*L_2*f - 1/(2*pi*C_3*f))**2/(4*pi**2*C_3**4*f**2*((R_1 + R_L2)**2 + (2*pi*L_2*f - 1/(2*pi*C_3*f))**2)))"
      ]
     },
     "metadata": {},
     "output_type": "display_data"
    },
    {
     "data": {
      "text/plain": [
       "402.237585610809"
      ]
     },
     "metadata": {},
     "output_type": "display_data"
    },
    {
     "data": {
      "text/plain": [
       "399.8524748941844"
      ]
     },
     "metadata": {},
     "output_type": "display_data"
    },
    {
     "name": "stdout",
     "output_type": "stream",
     "text": [
      "\\frac{R_{1} + R_{L2}}{\\sqrt{\\left(R_{1} + R_{L2}\\right)^{2} + \\left(2 \\pi L_{2} f - \\frac{1}{2 \\pi C_{3} f}\\right)^{2}}}\n"
     ]
    }
   ],
   "source": [
    "L, C = sp.symbols(\"L_2 C_3\")\n",
    "Z_2 = sp.sqrt((R + R_L)**2 + (2 * sp.pi * f * L - 1/(2 * sp.pi * f * C))**2)\n",
    "display(Z_2)\n",
    "val['Z_2'] = float(Z_2.subs({R:val['R_1'], R_L:val['R_L2'], f:val['f'], L:val['L_2'], C:val['C_3']}))\n",
    "\n",
    "uL_2, uC_3 = sp.symbols(\"u(L_2) u(C_3)\")\n",
    "uZ_2 = sp.sqrt(Z_2.diff(R)**2 * uR**2 + Z_2.diff(R_L)**2 * uR_L**2 + Z_2.diff(f)**2 * uf**2 +\n",
    "               + Z_2.diff(L)**2 * uL_2**2 + Z_2.diff(C)**2 * uC_3**2)\n",
    "display(uZ_2)\n",
    "\n",
    "val['uZ_2'] = float(uZ_2.subs({R:val['R_1'], R_L:val['R_L2'], f:val['f'], L:val['L_2'], C:val['C_3'],\n",
    "                              uR:val['uR_1'], uR_L:val['uR_L2'], uf:val['uf'], uL_2:val['u_CL_2'], uC_3:val['u_CC_3']}))\n",
    "display(val['Z_1'], val['Z_2'])\n",
    "\n",
    "#Latex\n",
    "print(sp.latex(Z_2.diff(R_L)))"
   ]
  },
  {
   "cell_type": "code",
   "execution_count": 21,
   "metadata": {},
   "outputs": [
    {
     "data": {
      "text/plain": [
       "{'R_1': 153.4,\n",
       " 'Zakres_R_1': 400,\n",
       " 'resR_1': 0.1,\n",
       " 'DR_1': 0.867,\n",
       " 'uR_1': 0.5005626833874056,\n",
       " 'R_L2': 6.1,\n",
       " 'Zakres_R_2': 200,\n",
       " 'resR_2': 0.01,\n",
       " 'DR_2': 0.062200000000000005,\n",
       " 'uR_L2': 0.035911186743594725,\n",
       " 'f': 150,\n",
       " 'resf': 1e-06,\n",
       " 'Df': 2.5,\n",
       " 'uf': 1.4433756729740645,\n",
       " 'Zakres_I': 200,\n",
       " 'resI': 0.01,\n",
       " 'Z_C': 402.61559065633134,\n",
       " 'uZ_C': 0.9381707906471853,\n",
       " 'C_3': 2.850347327815982e-06,\n",
       " 'u_CC_3': 2.855049532712093e-08,\n",
       " 'Z_L': 159.59771297750262,\n",
       " 'uZ_L': 0.5525843876149141,\n",
       " 'L_2': 0.005924706513670876,\n",
       " 'u_CL_2': 0.022631072963784207,\n",
       " 'Z_1': 402.237585610809,\n",
       " 'uZ_1': 0.6486995670963519,\n",
       " 'Z_2': 399.8524748941844,\n",
       " 'uZ_2': 20.13440842241896}"
      ]
     },
     "execution_count": 21,
     "metadata": {},
     "output_type": "execute_result"
    }
   ],
   "source": [
    "val"
   ]
  },
  {
   "cell_type": "code",
   "execution_count": 22,
   "metadata": {},
   "outputs": [
    {
     "name": "stdout",
     "output_type": "stream",
     "text": [
      "ANTLR runtime and generated code versions disagree: 4.8!=4.7.1\n",
      "ANTLR runtime and generated code versions disagree: 4.8!=4.7.1\n",
      "ANTLR runtime and generated code versions disagree: 4.8!=4.7.1\n",
      "ANTLR runtime and generated code versions disagree: 4.8!=4.7.1\n"
     ]
    },
    {
     "data": {
      "text/latex": [
       "$\\displaystyle \\sqrt{b + \\frac{d}{d c} a}$"
      ],
      "text/plain": [
       "sqrt(b + Derivative(a, c))"
      ]
     },
     "metadata": {},
     "output_type": "display_data"
    },
    {
     "data": {
      "text/latex": [
       "$\\displaystyle \\sqrt{dg/da^{2} u(a)^{2} + dg/db^{2} u(b)^{2} + dg/dc^{2} u(c)^{2}}$"
      ],
      "text/plain": [
       "sqrt(dg/da**2*u(a)**2 + dg/db**2*u(b)**2 + dg/dc**2*u(c)**2)"
      ]
     },
     "metadata": {},
     "output_type": "display_data"
    },
    {
     "data": {
      "text/latex": [
       "$\\displaystyle \\sqrt{dg/db^{2} u(b)^{2} + dg/dc^{2} u(c)^{2} + \\frac{u(a)^{2}}{4 c^{2} \\left(a - b\\right)}}$"
      ],
      "text/plain": [
       "sqrt(dg/db**2*u(b)**2 + dg/dc**2*u(c)**2 + u(a)**2/(4*c**2*(a - b)))"
      ]
     },
     "metadata": {},
     "output_type": "display_data"
    },
    {
     "name": "stdout",
     "output_type": "stream",
     "text": [
      "\\sqrt{dg/da^{2} u(a)^{2} + dg/db^{2} u(b)^{2} + dg/dc^{2} u(c)^{2}}\n"
     ]
    }
   ],
   "source": [
    "from sympy.parsing.latex import parse_latex\n",
    "\n",
    "a, b, c = sp.symbols(\"a b c\")\n",
    "g = sp.sqrt(a-b)/c\n",
    "gda, gdb, gdc = sp.symbols(\"dg/da dg/db dg/dc\")\n",
    "ua, ub, uc = sp.symbols(\"u(a) u(b) u(c)\")\n",
    "\n",
    "x = r\"\\sqrt{\\frac{\\partial a}{\\partial c} + b}\"\n",
    "x1 = parse_latex(x)\n",
    "display(x1)\n",
    "\n",
    "ug = sp.sqrt(gda**2 * ua**2 + gdb**2 * ub**2 + gdc**2 * uc**2)\n",
    "display(ug)\n",
    "display(ug.subs({gda:g.diff(a)}))\n",
    "print(sp.latex(ug))"
   ]
  },
  {
   "cell_type": "code",
   "execution_count": 23,
   "metadata": {},
   "outputs": [
    {
     "name": "stdout",
     "output_type": "stream",
     "text": [
      "\\begin{table}\n",
      "\\centering\n",
      "\\caption{Układ $R_1C_3$}\n",
      "\\label{tab:tab1}\n",
      "\\begin{tabular}{lrrrr}\n",
      "\\toprule\n",
      "{} &  $U_{sk} [V]$ &  $u(U_{sk}) [V]$ &  $I_{sk} [A]$ &  $u(I_{sk}) [A]$ \\\\\n",
      "\\textbf{lp.} &               &                  &               &                  \\\\\n",
      "\\midrule\n",
      "\\textbf{1  } &         1.013 &         0.006411 &          2.40 &         0.071591 \\\\\n",
      "\\textbf{2  } &         2.025 &         0.011085 &          4.99 &         0.086545 \\\\\n",
      "\\textbf{3  } &         3.038 &         0.015764 &          7.53 &         0.101210 \\\\\n",
      "\\textbf{4  } &         4.090 &         0.036211 &         10.05 &         0.115759 \\\\\n",
      "\\textbf{5  } &         5.100 &         0.040876 &         12.58 &         0.130366 \\\\\n",
      "\\textbf{6  } &         6.110 &         0.045541 &         15.12 &         0.145030 \\\\\n",
      "\\textbf{7  } &         7.130 &         0.050253 &         17.74 &         0.160157 \\\\\n",
      "\\textbf{8  } &         8.120 &         0.054825 &         20.11 &         0.173840 \\\\\n",
      "\\textbf{9  } &         9.140 &         0.059536 &         22.65 &         0.188505 \\\\\n",
      "\\textbf{10 } &        10.080 &         0.063878 &         24.90 &         0.201495 \\\\\n",
      "\\bottomrule\n",
      "\\end{tabular}\n",
      "\\end{table}\n",
      "\n",
      "\\begin{table}\n",
      "\\centering\n",
      "\\caption{Układ $R_1L_2$}\n",
      "\\label{tab:tab2}\n",
      "\\begin{tabular}{lrrrr}\n",
      "\\toprule\n",
      "{} &  $U_{sk} [V]$ &  $u(U_{sk}) [V]$ &  $I_{sk} [A]$ &  $u(I_{sk}) [A]$ \\\\\n",
      "\\textbf{lp.} &               &                  &               &                  \\\\\n",
      "\\midrule\n",
      "\\textbf{1  } &         1.011 &         0.006402 &          6.19 &         0.093473 \\\\\n",
      "\\textbf{2  } &         2.023 &         0.011076 &         12.53 &         0.130077 \\\\\n",
      "\\textbf{3  } &         3.035 &         0.015750 &         18.88 &         0.166739 \\\\\n",
      "\\textbf{4  } &         4.090 &         0.036211 &         25.19 &         0.203170 \\\\\n",
      "\\textbf{5  } &         5.090 &         0.040830 &         31.57 &         0.240005 \\\\\n",
      "\\textbf{6  } &         6.110 &         0.045541 &         37.90 &         0.276551 \\\\\n",
      "\\textbf{7  } &         7.120 &         0.050206 &         44.24 &         0.313155 \\\\\n",
      "\\textbf{8  } &         8.110 &         0.054779 &         50.59 &         0.349817 \\\\\n",
      "\\textbf{9  } &         9.130 &         0.059490 &         56.73 &         0.385266 \\\\\n",
      "\\textbf{10 } &        10.060 &         0.063786 &         63.18 &         0.422505 \\\\\n",
      "\\bottomrule\n",
      "\\end{tabular}\n",
      "\\end{table}\n",
      "\n",
      "\\begin{table}\n",
      "\\centering\n",
      "\\caption{Układ $R_1L_2C_3$}\n",
      "\\label{tab:tab3}\n",
      "\\begin{tabular}{lrrrr}\n",
      "\\toprule\n",
      "{} &  $U_{sk} [V]$ &  $u(U_{sk}) [V]$ &  $I_{sk} [A]$ &  $u(I_{sk}) [A]$ \\\\\n",
      "\\textbf{lp.} &               &                  &               &                  \\\\\n",
      "\\midrule\n",
      "\\textbf{1  } &         1.013 &         0.006411 &          2.48 &         0.072053 \\\\\n",
      "\\textbf{2  } &         2.024 &         0.011081 &          5.00 &         0.086603 \\\\\n",
      "\\textbf{3  } &         3.037 &         0.015759 &          7.55 &         0.101325 \\\\\n",
      "\\textbf{4  } &         4.080 &         0.036165 &         10.08 &         0.115932 \\\\\n",
      "\\textbf{5  } &         5.100 &         0.040876 &         12.61 &         0.130539 \\\\\n",
      "\\textbf{6  } &         6.110 &         0.045541 &         15.16 &         0.145261 \\\\\n",
      "\\textbf{7  } &         7.130 &         0.050253 &         17.70 &         0.159926 \\\\\n",
      "\\textbf{8  } &         8.120 &         0.054825 &         20.18 &         0.174244 \\\\\n",
      "\\textbf{9  } &         9.130 &         0.059490 &         22.72 &         0.188909 \\\\\n",
      "\\textbf{10 } &        10.090 &         0.063924 &         24.99 &         0.202015 \\\\\n",
      "\\bottomrule\n",
      "\\end{tabular}\n",
      "\\end{table}\n",
      "\n"
     ]
    }
   ],
   "source": [
    "wynik1 = pd.DataFrame()\n",
    "wynik2 = pd.DataFrame()\n",
    "wynik3 = pd.DataFrame()\n",
    "wynik1[[r\"$U_{sk} [V]$\", r\"$u(U_{sk}) [V]$\", r\"$I_{sk} [A]$\", r\"$u(I_{sk}) [A]$\"]] = data1[[\"U_sk\",\"uU\",\"I_sk\",\"uI\"]].copy()\n",
    "wynik2[[r\"$U_{sk} [V]$\", r\"$u(U_{sk}) [V]$\", r\"$I_{sk} [A]$\", r\"$u(I_{sk}) [A]$\"]] = data2[[\"U_sk\",\"uU\",\"I_sk\",\"uI\"]].copy()\n",
    "wynik3[[r\"$U_{sk} [V]$\", r\"$u(U_{sk}) [V]$\", r\"$I_{sk} [A]$\", r\"$u(I_{sk}) [A]$\"]] = data3[[\"U_sk\",\"uU\",\"I_sk\",\"uI\"]].copy()\n",
    "\n",
    "print(wynik1.to_latex(bold_rows = True, caption = r\"Układ $R_1C_3$\", label = \"tab:tab1\", escape = False))\n",
    "print(wynik2.to_latex(bold_rows = True, caption = r\"Układ $R_1L_2$\", label = \"tab:tab2\", escape = False))\n",
    "print(wynik3.to_latex(bold_rows = True, caption = r\"Układ $R_1L_2C_3$\", label = \"tab:tab3\", escape = False))"
   ]
  }
 ],
 "metadata": {
  "kernelspec": {
   "display_name": "Python 3",
   "language": "python",
   "name": "python3"
  },
  "language_info": {
   "codemirror_mode": {
    "name": "ipython",
    "version": 3
   },
   "file_extension": ".py",
   "mimetype": "text/x-python",
   "name": "python",
   "nbconvert_exporter": "python",
   "pygments_lexer": "ipython3",
   "version": "3.7.7"
  }
 },
 "nbformat": 4,
 "nbformat_minor": 4
}
